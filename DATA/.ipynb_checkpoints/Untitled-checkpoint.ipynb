{
 "cells": [
  {
   "cell_type": "markdown",
   "id": "ab4e39f2",
   "metadata": {},
   "source": [
    "## rename from CH to chapter names"
   ]
  },
  {
   "cell_type": "code",
   "execution_count": 4,
   "id": "1cf479b0",
   "metadata": {
    "collapsed": true
   },
   "outputs": [
    {
     "name": "stdout",
     "output_type": "stream",
     "text": [
      "Renamed: merged_CH1.json -> 1.Number_System.json\n",
      "Renamed: merged_CH2.json -> 2.HCF_LCM.json\n",
      "Renamed: merged_CH3.json -> 3.Decimal_Fractions.json\n",
      "Renamed: merged_CH4.json -> 4.Simplification.json\n",
      "Renamed: merged_CH5.json -> 5.Square_Cube_Roots.json\n",
      "Renamed: merged_CH6.json -> 6.Average.json\n",
      "Renamed: merged_CH7.json -> 7.Problems_on_Numbers.json\n",
      "Renamed: merged_CH8.json -> 8.Problems_on_Ages.json\n",
      "Renamed: merged_CH9.json -> 9.Surds_Indices.json\n",
      "Renamed: merged_CH10.json -> 10.Logarithms.json\n",
      "Renamed: merged_CH11.json -> 11.Percentage.json\n",
      "Renamed: merged_CH12.json -> 12.Profit_Loss.json\n",
      "Renamed: merged_CH13.json -> 13.Ratio_Proportion.json\n",
      "Renamed: merged_CH14.json -> 14.Partnership.json\n",
      "Renamed: merged_CH15.json -> 15.Chain_Rule.json\n",
      "Renamed: merged_CH16.json -> 16.Pipes_Cisterns.json\n",
      "Renamed: merged_CH17.json -> 17.Time_Work.json\n",
      "Renamed: merged_CH18.json -> 18.Time_Distance.json\n",
      "Renamed: merged_CH19.json -> 19.Boats_Streams.json\n",
      "Renamed: merged_CH20.json -> 20.Problems_on_Trains.json\n",
      "Renamed: merged_CH21.json -> 21.Alligation_Mixture.json\n",
      "Renamed: merged_CH22.json -> 22.Simple_Interest.json\n",
      "Renamed: merged_CH23.json -> 23.Compound_Interest.json\n",
      "Renamed: merged_CH24.json -> 24.Area.json\n",
      "Renamed: merged_CH25.json -> 25.Volume_Surface_Area.json\n",
      "Renamed: merged_CH26.json -> 26.Races_Games.json\n",
      "Renamed: merged_CH27.json -> 27.Calendar.json\n",
      "Renamed: merged_CH28.json -> 28.Clocks.json\n",
      "Renamed: merged_CH29.json -> 29.Stocks_Shares.json\n",
      "Renamed: merged_CH30.json -> 30.Permutations_Combinations.json\n",
      "Renamed: merged_CH31.json -> 31.Probability.json\n",
      "Renamed: merged_CH32.json -> 32.True_Discount.json\n",
      "Renamed: merged_CH33.json -> 33.Bankers_Discount.json\n",
      "Renamed: merged_CH34.json -> 34.Heights_Distances.json\n",
      "Renamed: merged_CH35.json -> 35.Odd_Man_Out_Series.json\n"
     ]
    }
   ],
   "source": [
    "import os\n",
    "\n",
    "# Define the mapping of chapter numbers to names\n",
    "chapter_names = [\n",
    "    \"Number_System\", \"HCF_LCM\", \"Decimal_Fractions\", \"Simplification\", \"Square_Cube_Roots\",\n",
    "    \"Average\", \"Problems_on_Numbers\", \"Problems_on_Ages\", \"Surds_Indices\", \"Logarithms\",\n",
    "    \"Percentage\", \"Profit_Loss\", \"Ratio_Proportion\", \"Partnership\", \"Chain_Rule\",\n",
    "    \"Pipes_Cisterns\", \"Time_Work\", \"Time_Distance\", \"Boats_Streams\", \"Problems_on_Trains\",\n",
    "    \"Alligation_Mixture\", \"Simple_Interest\", \"Compound_Interest\", \"Area\", \"Volume_Surface_Area\",\n",
    "    \"Races_Games\", \"Calendar\", \"Clocks\", \"Stocks_Shares\", \"Permutations_Combinations\",\n",
    "    \"Probability\", \"True_Discount\", \"Bankers_Discount\", \"Heights_Distances\", \"Odd_Man_Out_Series\"\n",
    "]\n",
    "\n",
    "# Folder containing the files\n",
    "folder_path = r\"C:\\Users\\Aditya\\OneDrive\\Desktop\\PROFESSIONAL\\WORK\\APTI-CORE\\DATA\\IT-3\\Merges\"  # Change this to your folder path\n",
    "\n",
    "# Iterate through the files and rename them\n",
    "for i in range(1, 36):\n",
    "    old_name = f\"merged_CH{i}.json\"\n",
    "    new_name = f\"{i}.{chapter_names[i-1]}.json\"\n",
    "    old_path = os.path.join(folder_path, old_name)\n",
    "    new_path = os.path.join(folder_path, new_name)\n",
    "    \n",
    "    if os.path.exists(old_path):\n",
    "        os.rename(old_path, new_path)\n",
    "        print(f\"Renamed: {old_name} -> {new_name}\")\n",
    "    else:\n",
    "        print(f\"File not found: {old_name}\")\n"
   ]
  },
  {
   "cell_type": "markdown",
   "id": "b73ba42c",
   "metadata": {},
   "source": [
    "## creating category folders"
   ]
  },
  {
   "cell_type": "code",
   "execution_count": 5,
   "id": "3ddd99b4",
   "metadata": {},
   "outputs": [
    {
     "name": "stdout",
     "output_type": "stream",
     "text": [
      "Folders created successfully!\n"
     ]
    }
   ],
   "source": [
    "import os\n",
    "\n",
    "# Folder names with index numbers\n",
    "folders = [\n",
    "    \"1_arithmetic_number\",\n",
    "    \"2_algebra_aptitude\",\n",
    "    \"3_time_work_speed\",\n",
    "    \"4_geometry_mensuration\",\n",
    "    \"5_logical_reasoning\",\n",
    "    \"6_probability_combinatorics\",\n",
    "    \"7_financial_math_apps\"\n",
    "]\n",
    "\n",
    "# Create folders\n",
    "for folder in folders:\n",
    "    os.makedirs(folder, exist_ok=True)\n",
    "\n",
    "print(\"Folders created successfully!\")\n"
   ]
  },
  {
   "cell_type": "markdown",
   "id": "c0af755e",
   "metadata": {},
   "source": [
    "## moving to category folders"
   ]
  },
  {
   "cell_type": "code",
   "execution_count": 6,
   "id": "5be7e395",
   "metadata": {},
   "outputs": [
    {
     "name": "stdout",
     "output_type": "stream",
     "text": [
      "Files have been successfully organized into folders!\n"
     ]
    }
   ],
   "source": [
    "import os\n",
    "import shutil\n",
    "\n",
    "# Define folder names\n",
    "folder_mapping = {\n",
    "    \"1_arithmetic_number\": [\n",
    "        \"1.Number_System.json\", \"2.HCF_LCM.json\", \"3.Decimal_Fractions.json\", \n",
    "        \"4.Simplification.json\", \"5.Square_Cube_Roots.json\", \"6.Average.json\", \n",
    "        \"9.Surds_Indices.json\", \"10.Logarithms.json\"\n",
    "    ],\n",
    "    \"2_algebra_aptitude\": [\n",
    "        \"7.Problems_on_Numbers.json\", \"8.Problems_on_Ages.json\", \"11.Percentage.json\", \n",
    "        \"12.Profit_Loss.json\", \"13.Ratio_Proportion.json\", \"14.Partnership.json\", \n",
    "        \"15.Chain_Rule.json\"\n",
    "    ],\n",
    "    \"3_time_work_speed\": [\n",
    "        \"16.Pipes_Cisterns.json\", \"17.Time_Work.json\", \"18.Time_Distance.json\", \n",
    "        \"19.Boats_Streams.json\", \"20.Problems_on_Trains.json\"\n",
    "    ],\n",
    "    \"4_geometry_mensuration\": [\n",
    "        \"24.Area.json\", \"25.Volume_Surface_Area.json\", \"34.Heights_Distances.json\"\n",
    "    ],\n",
    "    \"5_logical_reasoning\": [\n",
    "        \"35.Odd_Man_Out_Series.json\", \"27.Calendar.json\", \"28.Clocks.json\", \n",
    "        \"26.Races_Games.json\"\n",
    "    ],\n",
    "    \"6_probability_combinatorics\": [\n",
    "        \"30.Permutations_Combinations.json\", \"31.Probability.json\"\n",
    "    ],\n",
    "    \"7_financial_math_apps\": [\n",
    "        \"29.Stocks_Shares.json\", \"22.Simple_Interest.json\", \"23.Compound_Interest.json\", \n",
    "        \"32.True_Discount.json\", \"33.Bankers_Discount.json\", \"21.Alligation_Mixture.json\"\n",
    "    ]\n",
    "}\n",
    "\n",
    "# Create folders if they don’t exist\n",
    "for folder in folder_mapping.keys():\n",
    "    os.makedirs(folder, exist_ok=True)\n",
    "\n",
    "# Move files into respective folders\n",
    "for folder, files in folder_mapping.items():\n",
    "    for file in files:\n",
    "        if os.path.exists(file):\n",
    "            shutil.move(file, os.path.join(folder, file))\n",
    "\n",
    "print(\"Files have been successfully organized into folders!\")\n"
   ]
  },
  {
   "cell_type": "code",
   "execution_count": null,
   "id": "29575b59",
   "metadata": {},
   "outputs": [],
   "source": []
  }
 ],
 "metadata": {
  "kernelspec": {
   "display_name": "Python 3 (ipykernel)",
   "language": "python",
   "name": "python3"
  },
  "language_info": {
   "codemirror_mode": {
    "name": "ipython",
    "version": 3
   },
   "file_extension": ".py",
   "mimetype": "text/x-python",
   "name": "python",
   "nbconvert_exporter": "python",
   "pygments_lexer": "ipython3",
   "version": "3.13.1"
  }
 },
 "nbformat": 4,
 "nbformat_minor": 5
}
